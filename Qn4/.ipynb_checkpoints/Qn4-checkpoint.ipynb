{
 "cells": [
  {
   "cell_type": "code",
   "execution_count": 1,
   "metadata": {},
   "outputs": [],
   "source": [
    "import torch\n",
    "import torchvision\n",
    "from torch import nn, optim\n",
    "\n",
    "from torchsummary import summary"
   ]
  },
  {
   "cell_type": "code",
   "execution_count": 2,
   "metadata": {},
   "outputs": [],
   "source": [
    "batch_size = 32\n",
    "epoch = 30\n",
    "learning_rate = 0.01"
   ]
  },
  {
   "cell_type": "code",
   "execution_count": 3,
   "metadata": {},
   "outputs": [
    {
     "name": "stdout",
     "output_type": "stream",
     "text": [
      "Downloading http://yann.lecun.com/exdb/mnist/train-images-idx3-ubyte.gz\n",
      "Downloading http://yann.lecun.com/exdb/mnist/train-images-idx3-ubyte.gz to mnist_data\\MNIST\\raw\\train-images-idx3-ubyte.gz\n"
     ]
    },
    {
     "data": {
      "application/vnd.jupyter.widget-view+json": {
       "model_id": "4a13d99680e6421d9a7e46699146733c",
       "version_major": 2,
       "version_minor": 0
      },
      "text/plain": [
       "HBox(children=(HTML(value=''), FloatProgress(value=0.0, max=9912422.0), HTML(value='')))"
      ]
     },
     "metadata": {},
     "output_type": "display_data"
    },
    {
     "name": "stdout",
     "output_type": "stream",
     "text": [
      "\n",
      "Extracting mnist_data\\MNIST\\raw\\train-images-idx3-ubyte.gz to mnist_data\\MNIST\\raw\n",
      "\n",
      "Downloading http://yann.lecun.com/exdb/mnist/train-labels-idx1-ubyte.gz\n",
      "Downloading http://yann.lecun.com/exdb/mnist/train-labels-idx1-ubyte.gz to mnist_data\\MNIST\\raw\\train-labels-idx1-ubyte.gz\n"
     ]
    },
    {
     "data": {
      "application/vnd.jupyter.widget-view+json": {
       "model_id": "1fa2edb3fe914b419c3e83cfa84c4ab4",
       "version_major": 2,
       "version_minor": 0
      },
      "text/plain": [
       "HBox(children=(HTML(value=''), FloatProgress(value=0.0, max=28881.0), HTML(value='')))"
      ]
     },
     "metadata": {},
     "output_type": "display_data"
    },
    {
     "name": "stdout",
     "output_type": "stream",
     "text": [
      "\n",
      "Extracting mnist_data\\MNIST\\raw\\train-labels-idx1-ubyte.gz to mnist_data\\MNIST\\raw\n",
      "\n",
      "Downloading http://yann.lecun.com/exdb/mnist/t10k-images-idx3-ubyte.gz\n",
      "Downloading http://yann.lecun.com/exdb/mnist/t10k-images-idx3-ubyte.gz to mnist_data\\MNIST\\raw\\t10k-images-idx3-ubyte.gz\n"
     ]
    },
    {
     "data": {
      "application/vnd.jupyter.widget-view+json": {
       "model_id": "b5ac2c7f0f5247fb99a0ae13711beb98",
       "version_major": 2,
       "version_minor": 0
      },
      "text/plain": [
       "HBox(children=(HTML(value=''), FloatProgress(value=0.0, max=1648877.0), HTML(value='')))"
      ]
     },
     "metadata": {},
     "output_type": "display_data"
    },
    {
     "name": "stdout",
     "output_type": "stream",
     "text": [
      "\n",
      "Extracting mnist_data\\MNIST\\raw\\t10k-images-idx3-ubyte.gz to mnist_data\\MNIST\\raw\n",
      "\n",
      "Downloading http://yann.lecun.com/exdb/mnist/t10k-labels-idx1-ubyte.gz\n",
      "Downloading http://yann.lecun.com/exdb/mnist/t10k-labels-idx1-ubyte.gz to mnist_data\\MNIST\\raw\\t10k-labels-idx1-ubyte.gz\n"
     ]
    },
    {
     "data": {
      "application/vnd.jupyter.widget-view+json": {
       "model_id": "0d95ca4be00f4380af032182bfb86e0e",
       "version_major": 2,
       "version_minor": 0
      },
      "text/plain": [
       "HBox(children=(HTML(value=''), FloatProgress(value=0.0, max=4542.0), HTML(value='')))"
      ]
     },
     "metadata": {},
     "output_type": "display_data"
    },
    {
     "name": "stdout",
     "output_type": "stream",
     "text": [
      "\n",
      "Extracting mnist_data\\MNIST\\raw\\t10k-labels-idx1-ubyte.gz to mnist_data\\MNIST\\raw\n",
      "\n"
     ]
    }
   ],
   "source": [
    "trans = torchvision.transforms.ToTensor()\n",
    "\n",
    "train_data = torch.utils.data.DataLoader(\n",
    "            torchvision.datasets.MNIST(\n",
    "            'mnist_data', train=True, download=True, transform=trans\n",
    "            ), batch_size=batch_size\n",
    "            )\n",
    "val_data = torch.utils.data.DataLoader(\n",
    "            torchvision.datasets.MNIST(\n",
    "            'mnist_data', train=False, download=True, transform=trans\n",
    "            ), batch_size=batch_size)"
   ]
  },
  {
   "cell_type": "code",
   "execution_count": 4,
   "metadata": {},
   "outputs": [],
   "source": [
    "class Ann(nn.Module):\n",
    "    \n",
    "    def __init__(self):\n",
    "        super(Ann, self).__init__()\n",
    "        self.linear1 = nn.Linear(28*28, 150)\n",
    "        self.linear2 = nn.Linear(150, 10)\n",
    "                    \n",
    "        self.relu = nn.ReLU()\n",
    "        \n",
    "    def forward(self, x):\n",
    "        x = nn.Flatten()(x)\n",
    "        x = self.relu(self.linear1(x))\n",
    "        x = self.linear2(x)\n",
    "        return x"
   ]
  },
  {
   "cell_type": "code",
   "execution_count": 5,
   "metadata": {},
   "outputs": [],
   "source": [
    "def validate(model, data):\n",
    "    total = 0\n",
    "    correct = 0\n",
    "    for i, (images, labels) in enumerate(data):\n",
    "        y_pred = model(images)\n",
    "        value, pred = torch.max(y_pred, 1)\n",
    "        total += y_pred.size(0)\n",
    "        correct += torch.sum(pred == labels)\n",
    "    return correct * 100 / total"
   ]
  },
  {
   "cell_type": "code",
   "execution_count": 6,
   "metadata": {},
   "outputs": [
    {
     "name": "stdout",
     "output_type": "stream",
     "text": [
      "----------------------------------------------------------------\n",
      "        Layer (type)               Output Shape         Param #\n",
      "================================================================\n",
      "            Linear-1                  [-1, 150]         117,750\n",
      "              ReLU-2                  [-1, 150]               0\n",
      "            Linear-3                   [-1, 10]           1,510\n",
      "================================================================\n",
      "Total params: 119,260\n",
      "Trainable params: 119,260\n",
      "Non-trainable params: 0\n",
      "----------------------------------------------------------------\n",
      "Input size (MB): 0.00\n",
      "Forward/backward pass size (MB): 0.00\n",
      "Params size (MB): 0.45\n",
      "Estimated Total Size (MB): 0.46\n",
      "----------------------------------------------------------------\n"
     ]
    }
   ],
   "source": [
    "ann = Ann()\n",
    "summary(ann, (1, 28, 28))"
   ]
  },
  {
   "cell_type": "code",
   "execution_count": 7,
   "metadata": {},
   "outputs": [
    {
     "name": "stdout",
     "output_type": "stream",
     "text": [
      "Epoch: 1 Loss:  0.12276075780391693 Val. Accuracy: 93.5\n",
      "Epoch: 2 Loss:  0.0048448871821165085 Val. Accuracy: 95.19000244140625\n",
      "Epoch: 3 Loss:  0.04165646806359291 Val. Accuracy: 93.12999725341797\n",
      "Epoch: 4 Loss:  0.005520841106772423 Val. Accuracy: 95.0999984741211\n",
      "Epoch: 5 Loss:  0.001014151843264699 Val. Accuracy: 95.38999938964844\n",
      "Epoch: 6 Loss:  0.002359476638957858 Val. Accuracy: 95.18000030517578\n",
      "Epoch: 7 Loss:  0.36308231949806213 Val. Accuracy: 94.44999694824219\n",
      "Epoch: 8 Loss:  0.00022598567011300474 Val. Accuracy: 94.54000091552734\n",
      "Epoch: 9 Loss:  0.005337177775800228 Val. Accuracy: 96.0199966430664\n",
      "Epoch: 10 Loss:  0.0006358727696351707 Val. Accuracy: 95.9800033569336\n",
      "Epoch: 11 Loss:  0.050514962524175644 Val. Accuracy: 96.18000030517578\n",
      "Epoch: 12 Loss:  0.0005741254426538944 Val. Accuracy: 95.94999694824219\n",
      "Epoch: 13 Loss:  4.383684790809639e-05 Val. Accuracy: 95.91000366210938\n",
      "Epoch: 14 Loss:  3.762528137940535e-07 Val. Accuracy: 95.88999938964844\n",
      "Epoch: 15 Loss:  2.3766563117533224e-06 Val. Accuracy: 96.2300033569336\n",
      "Epoch: 16 Loss:  0.05581642687320709 Val. Accuracy: 95.4800033569336\n",
      "Epoch: 17 Loss:  2.2351738238057806e-08 Val. Accuracy: 96.29000091552734\n",
      "Epoch: 18 Loss:  2.0382942238938995e-05 Val. Accuracy: 96.23999786376953\n",
      "Epoch: 19 Loss:  0.008823677897453308 Val. Accuracy: 96.36000061035156\n",
      "Epoch: 20 Loss:  2.9802315282267955e-08 Val. Accuracy: 95.47000122070312\n",
      "Epoch: 21 Loss:  2.434376801829785e-05 Val. Accuracy: 96.75\n",
      "Epoch: 22 Loss:  0.00013420527102425694 Val. Accuracy: 96.79000091552734\n",
      "Epoch: 23 Loss:  2.9328228265512735e-05 Val. Accuracy: 95.38999938964844\n",
      "Epoch: 24 Loss:  0.0 Val. Accuracy: 95.27999877929688\n",
      "Epoch: 25 Loss:  4.596672170009697e-06 Val. Accuracy: 96.27999877929688\n",
      "Epoch: 26 Loss:  7.450580152834618e-09 Val. Accuracy: 96.51000213623047\n",
      "Epoch: 27 Loss:  2.9490391170838848e-05 Val. Accuracy: 96.4000015258789\n",
      "Epoch: 28 Loss:  0.0014304760843515396 Val. Accuracy: 96.58000183105469\n",
      "Epoch: 29 Loss:  3.017472636202001e-07 Val. Accuracy: 96.69000244140625\n",
      "Epoch: 30 Loss:  1.4275809007813223e-05 Val. Accuracy: 96.16999816894531\n",
      "Wall time: 6min 23s\n"
     ]
    }
   ],
   "source": [
    "%%time\n",
    "\n",
    "optimizer = optim.Adam(ann.parameters(), lr=learning_rate)\n",
    "cross_entropy = nn.CrossEntropyLoss()\n",
    "\n",
    "for n in range(epoch):\n",
    "    for i, (images, labels) in enumerate(train_data):\n",
    "        optimizer.zero_grad()\n",
    "        prediction = ann(images)\n",
    "        loss = cross_entropy(prediction, labels)\n",
    "        loss.backward()\n",
    "        optimizer.step()\n",
    "    accuracy = float(validate(ann, val_data))\n",
    "    print(\"Epoch:\", n+1, \"Loss: \", float(loss.data), \"Val. Accuracy:\", accuracy)"
   ]
  },
  {
   "cell_type": "markdown",
   "metadata": {},
   "source": [
    "We can see that there are less parameters and the training time is faster. We also see loss fluctuating after reaching 0."
   ]
  },
  {
   "cell_type": "code",
   "execution_count": null,
   "metadata": {},
   "outputs": [],
   "source": []
  }
 ],
 "metadata": {
  "kernelspec": {
   "display_name": "Python 3",
   "language": "python",
   "name": "python3"
  },
  "language_info": {
   "codemirror_mode": {
    "name": "ipython",
    "version": 3
   },
   "file_extension": ".py",
   "mimetype": "text/x-python",
   "name": "python",
   "nbconvert_exporter": "python",
   "pygments_lexer": "ipython3",
   "version": "3.8.5"
  }
 },
 "nbformat": 4,
 "nbformat_minor": 4
}
